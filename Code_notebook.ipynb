{
  "nbformat": 4,
  "nbformat_minor": 0,
  "metadata": {
    "accelerator": "GPU",
    "colab": {
      "name": "project.ipynb",
      "provenance": [],
      "collapsed_sections": [],
      "toc_visible": true
    },
    "kernelspec": {
      "display_name": "Python 3",
      "language": "python",
      "name": "python3"
    },
    "language_info": {
      "codemirror_mode": {
        "name": "ipython",
        "version": 3
      },
      "file_extension": ".py",
      "mimetype": "text/x-python",
      "name": "python",
      "nbconvert_exporter": "python",
      "pygments_lexer": "ipython3",
      "version": "3.7.7"
    }
  },
  "cells": [
    {
      "cell_type": "code",
      "metadata": {
        "colab_type": "code",
        "id": "E6ExRbK7_eSR",
        "colab": {}
      },
      "source": [
        "import tensorflow as tf\n",
        "import os\n",
        "import pandas as pd\n",
        "import matplotlib.pyplot as plt\n",
        "import matplotlib.ticker as ticker\n",
        "from sklearn.model_selection import train_test_split\n",
        "from tensorflow.keras.preprocessing.text import Tokenizer\n",
        "from tensorflow.keras.preprocessing.sequence import pad_sequences\n",
        "import plotly.graph_objects as go\n",
        "import unicodedata\n",
        "import re\n",
        "import numpy as np\n",
        "import io\n",
        "import time\n",
        "import jieba"
      ],
      "execution_count": 0,
      "outputs": []
    },
    {
      "cell_type": "code",
      "metadata": {
        "colab_type": "code",
        "id": "k_qRmMLDIp3Y",
        "outputId": "9d3ca0fb-6d82-45c0-e3ff-e901e671b619",
        "colab": {
          "base_uri": "https://localhost:8080/",
          "height": 54
        }
      },
      "source": [
        "from google.colab import drive\n",
        "drive.mount('/content/drive')"
      ],
      "execution_count": 0,
      "outputs": [
        {
          "output_type": "stream",
          "text": [
            "Drive already mounted at /content/drive; to attempt to forcibly remount, call drive.mount(\"/content/drive\", force_remount=True).\n"
          ],
          "name": "stdout"
        }
      ]
    },
    {
      "cell_type": "markdown",
      "metadata": {
        "colab_type": "text",
        "id": "5VUuduh3XEqb"
      },
      "source": [
        "## Preprocessing"
      ]
    },
    {
      "cell_type": "code",
      "metadata": {
        "colab_type": "code",
        "id": "b4iEowzU_bgB",
        "colab": {}
      },
      "source": [
        "# Converts the unicode file to ascii\n",
        "def unicode_to_ascii(s):\n",
        "    return ''.join(c for c in unicodedata.normalize('NFD', s)\n",
        "        if unicodedata.category(c) != 'Mn')\n",
        "\n",
        "# cut chinese\n",
        "def cutword(sentence):\n",
        "    output = []\n",
        "    for word in jieba.cut(sentence, cut_all=False):\n",
        "        output.append(word)\n",
        "    output = ' '.join(output)\n",
        "    return output\n",
        "\n",
        "def preprocess_sentence(w):\n",
        "    w = unicode_to_ascii(w.lower().strip())\n",
        "\n",
        "    # creating a space between a word and the punctuation following it\n",
        "    w = re.sub(r\"([?.!,？。！，])\", r\" \\1 \", w)\n",
        "    # delete extra spaces\n",
        "    w = re.sub(r'[\" \"]+', \" \", w)\n",
        "\n",
        "    # replacing everything with space except (a-z, A-Z, \".\", \"?\", \"!\", \",\")\n",
        "    # as well as Chinese characters\n",
        "    w = re.sub(r\"[^a-zA-Z?.!,？。！，\\u4e00-\\u9FFF]+\", \" \", w)\n",
        "\n",
        "    # cut words\n",
        "    if len(re.findall('([a-z])',w)) == 0:\n",
        "        try:\n",
        "            w = cutword(w)\n",
        "        except:\n",
        "            pass\n",
        "\n",
        "    # adding a start and an end token to the sentence\n",
        "    # so that the model know when to start and stop predicting.\n",
        "    w = '<start> ' + w + ' <end>'\n",
        "    return w\n",
        "\n",
        "# Return word pairs in the format: [ENGLISH, CHINESE]\n",
        "def create_dataset(path, num_examples):\n",
        "    lines = io.open(path, encoding='UTF-8').read().strip().split('\\n')\n",
        "    word_pairs = []\n",
        "    for line in lines[:num_examples]:\n",
        "        sentences = line.split('\\t')[:2]\n",
        "        word_pairs.append((preprocess_sentence(sentences[0]),\n",
        "                           preprocess_sentence(sentences[1])))\n",
        "    return word_pairs"
      ],
      "execution_count": 0,
      "outputs": []
    },
    {
      "cell_type": "code",
      "metadata": {
        "colab_type": "code",
        "id": "JGtKeQTTHYbL",
        "outputId": "7ef871b9-1424-4308-f7f2-8ff2374e2c56",
        "colab": {
          "base_uri": "https://localhost:8080/",
          "height": 102
        }
      },
      "source": [
        "cutword(\"我可以借这本书吗？\" )"
      ],
      "execution_count": 0,
      "outputs": [
        {
          "output_type": "stream",
          "text": [
            "Building prefix dict from the default dictionary ...\n",
            "Loading model from cache /tmp/jieba.cache\n",
            "Loading model cost 0.599 seconds.\n",
            "Prefix dict has been built successfully.\n"
          ],
          "name": "stderr"
        },
        {
          "output_type": "execute_result",
          "data": {
            "text/plain": [
              "'我 可以 借 这 本书 吗 ？'"
            ]
          },
          "metadata": {
            "tags": []
          },
          "execution_count": 4
        }
      ]
    },
    {
      "cell_type": "code",
      "metadata": {
        "colab_type": "code",
        "id": "qGWslS62_8Kw",
        "outputId": "22801846-3d51-4378-f2d7-07eebc4de496",
        "colab": {
          "base_uri": "https://localhost:8080/",
          "height": 51
        }
      },
      "source": [
        "en_sentence = u\"May I borrow this book?\"\n",
        "zh_sentence = u\"我可以借这本书吗？\"\n",
        "print(preprocess_sentence(en_sentence))\n",
        "print(preprocess_sentence(zh_sentence))"
      ],
      "execution_count": 0,
      "outputs": [
        {
          "output_type": "stream",
          "text": [
            "<start> may i borrow this book ?  <end>\n",
            "<start> 我 可以 借 这 本书 吗   ？   <end>\n"
          ],
          "name": "stdout"
        }
      ]
    },
    {
      "cell_type": "code",
      "metadata": {
        "colab_type": "code",
        "id": "RoAvK_hYN_gE",
        "outputId": "da90c8b3-e30d-44a4-abfb-46c54454b792",
        "colab": {
          "base_uri": "https://localhost:8080/",
          "height": 697
        }
      },
      "source": [
        "path_to_file = '/content/drive/My Drive/cmn.txt'\n",
        "\n",
        "for l,k in create_dataset(path_to_file, 10):\n",
        "    print(l)\n",
        "    print(k)\n",
        "    print('English length: {}; Chinese length: {}'.format(len(l),len(k)))\n",
        "    print('--' *30)"
      ],
      "execution_count": 0,
      "outputs": [
        {
          "output_type": "stream",
          "text": [
            "<start> hi .  <end>\n",
            "<start> 嗨   。   <end>\n",
            "English length: 19; Chinese length: 21\n",
            "------------------------------------------------------------\n",
            "<start> hi .  <end>\n",
            "<start> 你好   。   <end>\n",
            "English length: 19; Chinese length: 22\n",
            "------------------------------------------------------------\n",
            "<start> run .  <end>\n",
            "<start> 你 用 跑 的   。   <end>\n",
            "English length: 20; Chinese length: 27\n",
            "------------------------------------------------------------\n",
            "<start> wait !  <end>\n",
            "<start> 等等   ！   <end>\n",
            "English length: 21; Chinese length: 22\n",
            "------------------------------------------------------------\n",
            "<start> wait !  <end>\n",
            "<start> 等 一下   ！   <end>\n",
            "English length: 21; Chinese length: 24\n",
            "------------------------------------------------------------\n",
            "<start> hello !  <end>\n",
            "<start> 你好   。   <end>\n",
            "English length: 22; Chinese length: 22\n",
            "------------------------------------------------------------\n",
            "<start> i try .  <end>\n",
            "<start> 让 我 来   。   <end>\n",
            "English length: 22; Chinese length: 25\n",
            "------------------------------------------------------------\n",
            "<start> i won !  <end>\n",
            "<start> 我 赢 了   。   <end>\n",
            "English length: 22; Chinese length: 25\n",
            "------------------------------------------------------------\n",
            "<start> oh no !  <end>\n",
            "<start> 不会 吧   。   <end>\n",
            "English length: 22; Chinese length: 24\n",
            "------------------------------------------------------------\n",
            "<start> cheers !  <end>\n",
            "<start> 乾杯   !   <end>\n",
            "English length: 23; Chinese length: 22\n",
            "------------------------------------------------------------\n"
          ],
          "name": "stdout"
        }
      ]
    },
    {
      "cell_type": "code",
      "metadata": {
        "colab_type": "code",
        "id": "Sbba_wsSH1vY",
        "outputId": "cfd8f5ce-a07a-4f46-8a72-d47e77582c93",
        "colab": {
          "base_uri": "https://localhost:8080/",
          "height": 224
        }
      },
      "source": [
        "english = []\n",
        "chinese = []\n",
        "\n",
        "for en, zh in create_dataset(path_to_file, None):\n",
        "    english.append(en)\n",
        "    chinese.append(zh)\n",
        "\n",
        "print('--------- Original ---------')\n",
        "with open (path_to_file) as f:\n",
        "    for i in (f.read().split('\\n')[-2].split('\\t')):\n",
        "        print(i)\n",
        "print('')\n",
        "print('--------- Processed ---------')\n",
        "print(english[-1])\n",
        "print(chinese[-1])\n",
        "print('')\n",
        "print('Number of English Sentences: ', len(english))\n",
        "print('Number of Chinese sentences: ', len(chinese))"
      ],
      "execution_count": 0,
      "outputs": [
        {
          "output_type": "stream",
          "text": [
            "--------- Original ---------\n",
            "If a person has not had a chance to acquire his target language by the time he's an adult, he's unlikely to be able to reach native speaker level in that language.\n",
            "如果一個人在成人前沒有機會習得目標語言，他對該語言的認識達到母語者程度的機會是相當小的。\n",
            "CC-BY 2.0 (France) Attribution: tatoeba.org #1230633 (alec) & #1205914 (cienias)\n",
            "\n",
            "--------- Processed ---------\n",
            "<start> if a person has not had a chance to acquire his target language by the time he s an adult , he s unlikely to be able to reach native speaker level in that language .  <end>\n",
            "<start> 如果 一個 人 在 成人 前 沒 有 機會習 得 目標 語言   ，   他 對 該 語言 的 認識 達 到 母語者 程度 的 機會 是 相當 小 的   。   <end>\n",
            "\n",
            "Number of English Sentences:  22075\n",
            "Number of Chinese sentences:  22075\n"
          ],
          "name": "stdout"
        }
      ]
    },
    {
      "cell_type": "markdown",
      "metadata": {
        "colab_type": "text",
        "id": "_IKMbepnRR03"
      },
      "source": [
        "## Tokenization"
      ]
    },
    {
      "cell_type": "code",
      "metadata": {
        "colab_type": "code",
        "id": "FaMp-MlPzW5E",
        "colab": {}
      },
      "source": [
        "# create a helper function to get the padded tensor length\n",
        "# the default level(0.98) means that 98% of all sentences have fewer than n tokens\n",
        "def get_pad_len(tensor, level=0.98): \n",
        "    n = 0\n",
        "    while True:\n",
        "        count = 0\n",
        "        for i in tensor:\n",
        "            if len(i) < n:\n",
        "                count += 1\n",
        "        if count / len(tensor) >= level:\n",
        "            break\n",
        "        n += 1\n",
        "    return n"
      ],
      "execution_count": 0,
      "outputs": []
    },
    {
      "cell_type": "code",
      "metadata": {
        "colab_type": "code",
        "id": "NHgSIKmEsWa1",
        "colab": {}
      },
      "source": [
        "def to_tensor(lang, return_tensor=True, return_tokenizer=False):\n",
        "    # Assigns the index (sequence) of each word in a text to X\n",
        "    tokenizer = Tokenizer(filters=' ', oov_token='<OOV>') \n",
        "    tokenizer.fit_on_texts(lang)\n",
        "    lang_tensor = tokenizer.texts_to_sequences(lang)\n",
        "    lang_tensor = pad_sequences(lang_tensor,\n",
        "                                maxlen=get_pad_len(lang_tensor), # use the previously created function\n",
        "                                padding='post',\n",
        "                                truncating='post') \n",
        "    if return_tensor:\n",
        "        print('\\nShape of data tensor:', lang_tensor.shape)\n",
        "        return lang_tensor\n",
        "    if return_tokenizer:\n",
        "        return tokenizer"
      ],
      "execution_count": 0,
      "outputs": []
    },
    {
      "cell_type": "code",
      "metadata": {
        "colab_type": "code",
        "id": "MclwySvSyzTC",
        "outputId": "9c739272-141f-48b6-d987-33fa2ceab6b2",
        "colab": {
          "base_uri": "https://localhost:8080/",
          "height": 170
        }
      },
      "source": [
        "english_tokenizer = to_tensor(english, False, True)\n",
        "english_tensor = to_tensor(english)\n",
        "print('\\nOriginal sentence:')\n",
        "print(english[500])\n",
        "print('\\nTensor of the sentence:')\n",
        "print(english_tensor[500])"
      ],
      "execution_count": 0,
      "outputs": [
        {
          "output_type": "stream",
          "text": [
            "\n",
            "Shape of data tensor: (22075, 17)\n",
            "\n",
            "Original sentence:\n",
            "<start> i m all ears .  <end>\n",
            "\n",
            "Tensor of the sentence:\n",
            "[   2    5   40   57 1360    4    3    0    0    0    0    0    0    0\n",
            "    0    0    0]\n"
          ],
          "name": "stdout"
        }
      ]
    },
    {
      "cell_type": "code",
      "metadata": {
        "colab_type": "code",
        "id": "W72oQWSzwQBo",
        "outputId": "5219cdf4-04c0-49ec-f6c2-667eab7cdb50",
        "colab": {
          "base_uri": "https://localhost:8080/",
          "height": 170
        }
      },
      "source": [
        "chinese_tokenizer = to_tensor(chinese, False, True)\n",
        "chinese_tensor = to_tensor(chinese)\n",
        "print('\\nOriginal sentence:')\n",
        "print(chinese[500])\n",
        "print('\\nTensor of the sentence:')\n",
        "print(chinese_tensor[500])"
      ],
      "execution_count": 0,
      "outputs": [
        {
          "output_type": "stream",
          "text": [
            "\n",
            "Shape of data tensor: (22075, 15)\n",
            "\n",
            "Original sentence:\n",
            "<start> 我 洗耳 恭聽   。   <end>\n",
            "\n",
            "Tensor of the sentence:\n",
            "[   2    5 6207 6208    4    3    0    0    0    0    0    0    0    0\n",
            "    0]\n"
          ],
          "name": "stdout"
        }
      ]
    },
    {
      "cell_type": "code",
      "metadata": {
        "colab_type": "code",
        "id": "SDUy9FeTSM3T",
        "outputId": "48dad413-281e-43f7-ab3f-f5bb62ebce7e",
        "colab": {
          "base_uri": "https://localhost:8080/",
          "height": 187
        }
      },
      "source": [
        "english_vocab_size = len(english_tokenizer.word_index) + 1\n",
        "chinese_vocab_size = len(chinese_tokenizer.word_index) + 1\n",
        "\n",
        "print('Found {} unique tokens in English.\\n'.format(english_vocab_size))\n",
        "print('Found {} unique tokens in Chinese.\\n'.format(chinese_vocab_size))\n",
        "\n",
        "name_dict = ['Chinese', 'English']\n",
        "for idx, lang in enumerate([chinese_tokenizer, english_tokenizer]):\n",
        "    print('The 10 most frequent tokens in {} are:'.format(name_dict[idx]))\n",
        "    for idx, word in enumerate(lang.word_index):\n",
        "        if word not in ['<OOV>' , '<start>', '<end>']:\n",
        "            print(word, end='|')\n",
        "        if idx == 13:\n",
        "            break\n",
        "    print('\\n')"
      ],
      "execution_count": 0,
      "outputs": [
        {
          "output_type": "stream",
          "text": [
            "Found 6237 unique tokens in English.\n",
            "\n",
            "Found 14052 unique tokens in Chinese.\n",
            "\n",
            "The 10 most frequent tokens in Chinese are:\n",
            "。|我|的|了|你|他|？|在|是|她|，|\n",
            "\n",
            "The 10 most frequent tokens in English are:\n",
            ".|i|the|to|you|a|?|is|he|t|tom|\n",
            "\n"
          ],
          "name": "stdout"
        }
      ]
    },
    {
      "cell_type": "markdown",
      "metadata": {
        "colab_type": "text",
        "id": "ZW8pt8Y3XJ1M"
      },
      "source": [
        "## Create Dataset"
      ]
    },
    {
      "cell_type": "code",
      "metadata": {
        "colab_type": "code",
        "id": "lmO2tDaV6bJh",
        "colab": {}
      },
      "source": [
        "english_train, english_test, chinese_train, chinese_test = train_test_split(\n",
        "    english_tensor, chinese_tensor, test_size=0.1)"
      ],
      "execution_count": 0,
      "outputs": []
    },
    {
      "cell_type": "code",
      "metadata": {
        "colab_type": "code",
        "id": "Wjo5Fr7Nb7_f",
        "colab": {}
      },
      "source": [
        "BUFFER_SIZE = len(english_train)\n",
        "BATCH_SIZE = 64\n",
        "STEPS_PER_EPOCH = len(english_train)//BATCH_SIZE\n",
        "EMBEDDING_DIM = 128\n",
        "ENC_HIDDEN_DIM = 1024\n",
        "DEC_HIDDEN_DIM = 1024\n",
        "\n",
        "# creating a TensorFlow Dataset object \n",
        "dataset = tf.data.Dataset.from_tensor_slices((english_train, chinese_train)).shuffle(BUFFER_SIZE)\n",
        "\n",
        "# batching\n",
        "dataset = dataset.batch(BATCH_SIZE, drop_remainder=False)"
      ],
      "execution_count": 0,
      "outputs": []
    },
    {
      "cell_type": "code",
      "metadata": {
        "colab_type": "code",
        "id": "XZks3V5Ngp_6",
        "outputId": "6c30c8cb-aacc-4844-9234-8b33889390f2",
        "colab": {
          "base_uri": "https://localhost:8080/",
          "height": 51
        }
      },
      "source": [
        "print(chinese_vocab_size)\n",
        "print(english_vocab_size)"
      ],
      "execution_count": 0,
      "outputs": [
        {
          "output_type": "stream",
          "text": [
            "14052\n",
            "6237\n"
          ],
          "name": "stdout"
        }
      ]
    },
    {
      "cell_type": "markdown",
      "metadata": {
        "colab_type": "text",
        "id": "SZgryyDVwZfQ"
      },
      "source": [
        "## Encoder-decoder with attention"
      ]
    },
    {
      "cell_type": "code",
      "metadata": {
        "colab_type": "code",
        "id": "a4xrvVK_258X",
        "colab": {}
      },
      "source": [
        "class Encoder(tf.keras.Model):\n",
        "    def __init__(self, input_dim, embedding_dim, enc_hidden_dim, batch_size, dropout_rate=0.1):\n",
        "        super(Encoder, self).__init__()\n",
        "        self.batch_size = batch_size\n",
        "        self.enc_hidden_dim = enc_hidden_dim\n",
        "        # embed the word vectors\n",
        "        self.embedding = tf.keras.layers.Embedding(input_dim, embedding_dim)\n",
        "        # dropout layer for normalization\n",
        "        self.dropout = tf.keras.layers.Dropout(dropout_rate)\n",
        "        # GRU \n",
        "        self.gru = tf.keras.layers.GRU(self.enc_hidden_dim,\n",
        "                                       return_sequences=True,\n",
        "                                       return_state=True,\n",
        "                                       recurrent_initializer='glorot_uniform')\n",
        "\n",
        "    def call(self, x, init_state, training=True):\n",
        "        \"\"\"\n",
        "        training -> bool\n",
        "        \"\"\"\n",
        "        x = self.embedding(x)\n",
        "        x = self.dropout(x)\n",
        "        output, hidden = self.gru(x, initial_state = init_state, training=training)\n",
        "        return output, hidden\n",
        "\n",
        "    def initialize_hidden_state(self):\n",
        "        return tf.zeros((self.batch_size, self.enc_hidden_dim))"
      ],
      "execution_count": 0,
      "outputs": []
    },
    {
      "cell_type": "code",
      "metadata": {
        "colab_type": "code",
        "id": "SVI4MNFWK_G7",
        "colab": {}
      },
      "source": [
        "class Attention(tf.keras.layers.Layer):\n",
        "    \"\"\" bahdanau-style assistive attention \"\"\"\n",
        "\n",
        "    def __init__(self, units):\n",
        "        super(Attention, self).__init__()\n",
        "        self.d1 = tf.keras.layers.Dense(units)\n",
        "        self.d2 = tf.keras.layers.Dense(units)\n",
        "        self.d3 = tf.keras.layers.Dense(1)\n",
        "\n",
        "    def call(self, query, values):\n",
        "        \"\"\"\n",
        "        encoder last hidden state is the query\n",
        "        encoder outputs are the values\n",
        "        \"\"\"\n",
        "        # dim from (64,1024) -> (64,1,1024)\n",
        "        query_3d = tf.expand_dims(query, 1)\n",
        "\n",
        "        scores = self.d3(tf.nn.tanh(\n",
        "            self.d1(query_3d) + self.d2(values)))\n",
        "        # values.shape == (64, 17, 1024)\n",
        "\n",
        "        # tfa.seq2seq.LuongAttention\n",
        "        # tfa.seq2seq.BahdanauAttention\n",
        "\n",
        "        # axis 1 is the time axis, i.e. across multiple time steps\n",
        "        attention_weights = tf.nn.softmax(scores, axis=1)\n",
        "\n",
        "        context_vector = attention_weights * values\n",
        "        context_vector = tf.reduce_sum(context_vector, axis=1)\n",
        "\n",
        "        return context_vector, attention_weights"
      ],
      "execution_count": 0,
      "outputs": []
    },
    {
      "cell_type": "code",
      "metadata": {
        "colab_type": "code",
        "id": "_TXDSwxE_HMT",
        "colab": {}
      },
      "source": [
        "class Decoder(tf.keras.Model):\n",
        "    def __init__(self, input_dim, embedding_dim, dec_hid_dim, dropout_rate=0.1):\n",
        "        super(Decoder, self).__init__()\n",
        "        self.dec_hid_dim = dec_hid_dim\n",
        "        self.embedding = tf.keras.layers.Embedding(input_dim, embedding_dim)\n",
        "        self.gru = tf.keras.layers.GRU(self.dec_hid_dim,\n",
        "                                    return_sequences=True,\n",
        "                                    return_state=True)\n",
        "        self.attention = Attention(self.dec_hid_dim)\n",
        "        self.dense = tf.keras.layers.Dense(input_dim)\n",
        "        self.dropout = tf.keras.layers.Dropout(dropout_rate)\n",
        "        \n",
        "    def call(self, x, query, value, training=True):\n",
        "        x = self.embedding(x)\n",
        "        x = self.dropout(x)\n",
        "        context_vector, attention_weights = self.attention(query, value)\n",
        "\n",
        "        # add one dimension to the context_vector, 2d->3d\n",
        "        # original dimension is (64, 17); dimension now is (64,17,1)\n",
        "        x = tf.concat([tf.expand_dims(context_vector, 1), x], axis=-1)\n",
        "        output, hidden = self.gru(x, training=training)\n",
        "        # tf.keras.layers.Bidirectional()\n",
        "\n",
        "        # output shape == (batch_size * 1, hidden_size)\n",
        "        output = tf.reshape(output, (-1, output.shape[2]))\n",
        "        x = self.dense(output)\n",
        "\n",
        "        return x, hidden, attention_weights"
      ],
      "execution_count": 0,
      "outputs": []
    },
    {
      "cell_type": "markdown",
      "metadata": {
        "colab_type": "text",
        "id": "CVV4C2ElDLoJ"
      },
      "source": [
        "### Instantiate the models with sample batches"
      ]
    },
    {
      "cell_type": "code",
      "metadata": {
        "colab_type": "code",
        "id": "fGHE9L80TBUM",
        "colab": {}
      },
      "source": [
        "encoder = Encoder(english_vocab_size, EMBEDDING_DIM, ENC_HIDDEN_DIM, BATCH_SIZE)\n",
        "sample_hidden = encoder.initialize_hidden_state()\n",
        "example_input_batch, example_target_batch = next(iter(dataset))\n",
        "sample_output, sample_hidden = encoder(example_input_batch, sample_hidden)"
      ],
      "execution_count": 0,
      "outputs": []
    },
    {
      "cell_type": "code",
      "metadata": {
        "colab_type": "code",
        "id": "rh96LPYoys-i",
        "outputId": "b19da510-09cb-45ad-e0d1-df96e4e2707d",
        "colab": {
          "base_uri": "https://localhost:8080/",
          "height": 51
        }
      },
      "source": [
        "print ('Encoder output shape: (batch size, sequence length, units) {}'.format(sample_output.shape))\n",
        "print ('Encoder Hidden state shape: (batch size, units) {}'.format(sample_hidden.shape))"
      ],
      "execution_count": 0,
      "outputs": [
        {
          "output_type": "stream",
          "text": [
            "Encoder output shape: (batch size, sequence length, units) (64, 17, 1024)\n",
            "Encoder Hidden state shape: (batch size, units) (64, 1024)\n"
          ],
          "name": "stdout"
        }
      ]
    },
    {
      "cell_type": "code",
      "metadata": {
        "colab_type": "code",
        "id": "ha97KhRrNJzh",
        "outputId": "6c7d3059-5f94-4f55-cfeb-7edc29c6c021",
        "colab": {
          "base_uri": "https://localhost:8080/",
          "height": 255
        }
      },
      "source": [
        "encoder.summary()"
      ],
      "execution_count": 0,
      "outputs": [
        {
          "output_type": "stream",
          "text": [
            "Model: \"encoder\"\n",
            "_________________________________________________________________\n",
            "Layer (type)                 Output Shape              Param #   \n",
            "=================================================================\n",
            "embedding (Embedding)        multiple                  798336    \n",
            "_________________________________________________________________\n",
            "dropout (Dropout)            multiple                  0         \n",
            "_________________________________________________________________\n",
            "gru (GRU)                    multiple                  3545088   \n",
            "=================================================================\n",
            "Total params: 4,343,424\n",
            "Trainable params: 4,343,424\n",
            "Non-trainable params: 0\n",
            "_________________________________________________________________\n"
          ],
          "name": "stdout"
        }
      ]
    },
    {
      "cell_type": "code",
      "metadata": {
        "colab_type": "code",
        "id": "EVsE_fjlTlNl",
        "outputId": "210b02a6-9d10-42d0-be83-e2cac795b105",
        "colab": {
          "base_uri": "https://localhost:8080/",
          "height": 51
        }
      },
      "source": [
        "attention_layer = Attention(1024)\n",
        "context_vector, attention_weights = attention_layer(sample_hidden, sample_output)\n",
        "\n",
        "print(\"Context vector shape: (batch size, units) {}\".format(context_vector.shape))\n",
        "print(\"Attention weights shape: (batch_size, sequence_length, 1) {}\".format(attention_weights.shape))"
      ],
      "execution_count": 0,
      "outputs": [
        {
          "output_type": "stream",
          "text": [
            "Context vector shape: (batch size, units) (64, 1024)\n",
            "Attention weights shape: (batch_size, sequence_length, 1) (64, 17, 1)\n"
          ],
          "name": "stdout"
        }
      ]
    },
    {
      "cell_type": "code",
      "metadata": {
        "colab_type": "code",
        "id": "Kw7LV9OuNa5x",
        "outputId": "ed57ee21-f144-4abb-f945-628620280918",
        "colab": {
          "base_uri": "https://localhost:8080/",
          "height": 34
        }
      },
      "source": [
        "attention_layer.count_params()"
      ],
      "execution_count": 0,
      "outputs": [
        {
          "output_type": "execute_result",
          "data": {
            "text/plain": [
              "2100225"
            ]
          },
          "metadata": {
            "tags": []
          },
          "execution_count": 24
        }
      ]
    },
    {
      "cell_type": "code",
      "metadata": {
        "colab_type": "code",
        "id": "7uoGSFUCbhM2",
        "outputId": "4eebd030-1433-4762-f34b-a19f4b04667f",
        "colab": {
          "base_uri": "https://localhost:8080/",
          "height": 34
        }
      },
      "source": [
        "decoder = Decoder(chinese_vocab_size, EMBEDDING_DIM, DEC_HIDDEN_DIM)\n",
        "\n",
        "sample_decoder_output, _, _ = decoder(tf.random.uniform((BATCH_SIZE, 1)),\n",
        "                                      sample_hidden, sample_output)\n",
        "\n",
        "print('Decoder output shape: (batch_size, vocab size) {}'.format(sample_decoder_output.shape))"
      ],
      "execution_count": 0,
      "outputs": [
        {
          "output_type": "stream",
          "text": [
            "Decoder output shape: (batch_size, vocab size) (64, 14052)\n"
          ],
          "name": "stdout"
        }
      ]
    },
    {
      "cell_type": "code",
      "metadata": {
        "colab_type": "code",
        "id": "KsAioxLJNMmT",
        "outputId": "124a12d9-1eb4-48f6-d2fc-3cdaa2e33664",
        "colab": {
          "base_uri": "https://localhost:8080/",
          "height": 323
        }
      },
      "source": [
        "decoder.summary()"
      ],
      "execution_count": 0,
      "outputs": [
        {
          "output_type": "stream",
          "text": [
            "Model: \"decoder\"\n",
            "_________________________________________________________________\n",
            "Layer (type)                 Output Shape              Param #   \n",
            "=================================================================\n",
            "embedding_1 (Embedding)      multiple                  1798656   \n",
            "_________________________________________________________________\n",
            "gru_1 (GRU)                  multiple                  6690816   \n",
            "_________________________________________________________________\n",
            "attention_1 (Attention)      multiple                  2100225   \n",
            "_________________________________________________________________\n",
            "dense_6 (Dense)              multiple                  14403300  \n",
            "_________________________________________________________________\n",
            "dropout_1 (Dropout)          multiple                  0         \n",
            "=================================================================\n",
            "Total params: 24,992,997\n",
            "Trainable params: 24,992,997\n",
            "Non-trainable params: 0\n",
            "_________________________________________________________________\n"
          ],
          "name": "stdout"
        }
      ]
    },
    {
      "cell_type": "markdown",
      "metadata": {
        "colab_type": "text",
        "id": "aB-YTXPuDQJi"
      },
      "source": [
        "## Training"
      ]
    },
    {
      "cell_type": "markdown",
      "metadata": {
        "colab_type": "text",
        "id": "Ngb95ug8Df2h"
      },
      "source": [
        "### Optimizer and loss Function"
      ]
    },
    {
      "cell_type": "code",
      "metadata": {
        "colab_type": "code",
        "id": "s716hn1A-Pow",
        "colab": {}
      },
      "source": [
        "optimizer = tf.keras.optimizers.Adam(learning_rate=0.001)\n",
        "cce = tf.keras.losses.SparseCategoricalCrossentropy(\n",
        "    from_logits=True, reduction='none')\n",
        "\n",
        "def loss_function(y_true, y_pred):\n",
        "    # returns True if y_true is not equal to 0 element-wise\n",
        "    # returns a vector\n",
        "    mask = tf.math.logical_not(tf.math.equal(y_true, 0))\n",
        "    loss_ = cce(y_true, y_pred)\n",
        "\n",
        "    mask = tf.cast(mask, dtype=loss_.dtype)\n",
        "    loss_ *= mask\n",
        "\n",
        "    return tf.reduce_mean(loss_)"
      ],
      "execution_count": 0,
      "outputs": []
    },
    {
      "cell_type": "markdown",
      "metadata": {
        "colab_type": "text",
        "id": "ygVLUzIZDh6S"
      },
      "source": [
        "### Backpropagation"
      ]
    },
    {
      "cell_type": "code",
      "metadata": {
        "colab_type": "code",
        "id": "GhAqprfQFSX2",
        "colab": {}
      },
      "source": [
        "# use @tf.function decorator to take advance of static graph computation\n",
        "@tf.function\n",
        "def train_step(inp, targ):\n",
        "    \n",
        "    teacher_forcing_ratio = 0.8\n",
        "    loss = 0   # initialize loss = 0\n",
        "\n",
        "    with tf.GradientTape() as tape:\n",
        "        # using the instantiated encoder object from before\n",
        "        # initialize hidden state with zeros on every epoch\n",
        "        enc_hidden = encoder.initialize_hidden_state()\n",
        "        enc_output, enc_hidden = encoder(inp, enc_hidden)\n",
        "        dec_hidden = enc_hidden\n",
        "        # dec_input.shape == (BATCH_SIZE, 1)\n",
        "        # initialize dec_input with the index of <start>\n",
        "        dec_input = tf.expand_dims([chinese_tokenizer.word_index['<start>']] * BATCH_SIZE, 1)\n",
        "        random_number = np.random.rand()\n",
        "        if random_number <= teacher_forcing_ratio:\n",
        "            use_teacher_forcing = True  \n",
        "        else:\n",
        "            use_teacher_forcing = False\n",
        "\n",
        "        # teacher-forcing: Feed the target as the next input\n",
        "        if use_teacher_forcing:\n",
        "            for t in range(1, targ.shape[1]):\n",
        "                pred, dec_hidden, att_weights = decoder(dec_input, dec_hidden, enc_output)\n",
        "                loss += loss_function(targ[:, t], pred)\n",
        "                # use the actual value the next input\n",
        "                dec_input = tf.expand_dims(targ[:, t], 1)\n",
        "        \n",
        "        # Without teacher forcing: use its own predictions as the next input\n",
        "        else:\n",
        "            for t in range(targ.shape[1]):\n",
        "                pred, dec_hidden, att_weights = decoder(dec_input, dec_hidden, enc_output)\n",
        "                # create (value, index) pair\n",
        "                topv, _ = tf.math.top_k(pred)\n",
        "                dec_input = topv\n",
        "                loss += loss_function(targ[:, t], pred)\n",
        "\n",
        "    batch_loss = (loss / int(targ.shape[1]))\n",
        "    variables = encoder.trainable_variables + decoder.trainable_variables\n",
        "    gradients = tape.gradient(loss, variables)\n",
        "    optimizer.apply_gradients(zip(gradients, variables))\n",
        "\n",
        "    return batch_loss"
      ],
      "execution_count": 0,
      "outputs": []
    },
    {
      "cell_type": "markdown",
      "metadata": {
        "colab_type": "text",
        "id": "7tjybTebDkYI"
      },
      "source": [
        "### Training"
      ]
    },
    {
      "cell_type": "code",
      "metadata": {
        "colab_type": "code",
        "id": "XbIjEybuYqhg",
        "outputId": "3b0954c2-415d-4138-d6d8-f4803c6c1569",
        "colab": {
          "base_uri": "https://localhost:8080/",
          "height": 1000
        }
      },
      "source": [
        "EPOCHS = 35\n",
        "loss_history = []\n",
        "\n",
        "for epoch in range(EPOCHS):\n",
        "    # record training time\n",
        "    start = time.time()\n",
        "    # # initialize hidden state with zeros on every epoch\n",
        "    # enc_hidden = encoder.initialize_hidden_state()\n",
        "    \n",
        "    total_loss = 0\n",
        "\n",
        "    for batch, (inp, targ) in enumerate(dataset.take(STEPS_PER_EPOCH)):\n",
        "        batch_loss = train_step(inp, targ)\n",
        "        total_loss += batch_loss\n",
        "\n",
        "        if (batch+1) % 5 == 0:\n",
        "            print('=', end='')\n",
        "    \n",
        "    loss_history.append(total_loss/STEPS_PER_EPOCH)\n",
        "    print('\\nEpoch {} finished with Loss of {:.3f}'.format(epoch + 1, total_loss / STEPS_PER_EPOCH))\n",
        "    print('Time taken for 1 epoch {:.2f} seconds\\n'.format(time.time() - start))\n",
        "\n",
        "    # early stopping\n",
        "    if loss_history[epoch-1] - loss_history[epoch] < 0.01 and epoch != 0:\n",
        "        break"
      ],
      "execution_count": 0,
      "outputs": [
        {
          "output_type": "stream",
          "text": [
            "==============================================================\n",
            "Epoch 1 finished with Loss of 2.864\n",
            "Time taken for 1 epoch 72.23 seconds\n",
            "\n",
            "==============================================================\n",
            "Epoch 2 finished with Loss of 2.456\n",
            "Time taken for 1 epoch 56.56 seconds\n",
            "\n",
            "==============================================================\n",
            "Epoch 3 finished with Loss of 2.237\n",
            "Time taken for 1 epoch 56.52 seconds\n",
            "\n",
            "==============================================================\n",
            "Epoch 4 finished with Loss of 2.065\n",
            "Time taken for 1 epoch 56.65 seconds\n",
            "\n",
            "==============================================================\n",
            "Epoch 5 finished with Loss of 1.909\n",
            "Time taken for 1 epoch 56.76 seconds\n",
            "\n",
            "==============================================================\n",
            "Epoch 6 finished with Loss of 1.751\n",
            "Time taken for 1 epoch 56.76 seconds\n",
            "\n",
            "==============================================================\n",
            "Epoch 7 finished with Loss of 1.587\n",
            "Time taken for 1 epoch 56.56 seconds\n",
            "\n",
            "==============================================================\n",
            "Epoch 8 finished with Loss of 1.419\n",
            "Time taken for 1 epoch 56.70 seconds\n",
            "\n",
            "==============================================================\n",
            "Epoch 9 finished with Loss of 1.243\n",
            "Time taken for 1 epoch 56.66 seconds\n",
            "\n",
            "==============================================================\n",
            "Epoch 10 finished with Loss of 1.067\n",
            "Time taken for 1 epoch 56.67 seconds\n",
            "\n",
            "==============================================================\n",
            "Epoch 11 finished with Loss of 0.898\n",
            "Time taken for 1 epoch 56.67 seconds\n",
            "\n",
            "==============================================================\n",
            "Epoch 12 finished with Loss of 0.745\n",
            "Time taken for 1 epoch 56.67 seconds\n",
            "\n",
            "==============================================================\n",
            "Epoch 13 finished with Loss of 0.610\n",
            "Time taken for 1 epoch 56.72 seconds\n",
            "\n",
            "==============================================================\n",
            "Epoch 14 finished with Loss of 0.491\n",
            "Time taken for 1 epoch 56.67 seconds\n",
            "\n",
            "==============================================================\n",
            "Epoch 15 finished with Loss of 0.390\n",
            "Time taken for 1 epoch 56.61 seconds\n",
            "\n",
            "==============================================================\n",
            "Epoch 16 finished with Loss of 0.303\n",
            "Time taken for 1 epoch 56.53 seconds\n",
            "\n",
            "==============================================================\n",
            "Epoch 17 finished with Loss of 0.234\n",
            "Time taken for 1 epoch 56.53 seconds\n",
            "\n",
            "==============================================================\n",
            "Epoch 18 finished with Loss of 0.177\n",
            "Time taken for 1 epoch 56.49 seconds\n",
            "\n",
            "==============================================================\n",
            "Epoch 19 finished with Loss of 0.134\n",
            "Time taken for 1 epoch 56.59 seconds\n",
            "\n",
            "==============================================================\n",
            "Epoch 20 finished with Loss of 0.102\n",
            "Time taken for 1 epoch 56.58 seconds\n",
            "\n",
            "==============================================================\n",
            "Epoch 21 finished with Loss of 0.084\n",
            "Time taken for 1 epoch 56.62 seconds\n",
            "\n",
            "==============================================================\n",
            "Epoch 22 finished with Loss of 0.069\n",
            "Time taken for 1 epoch 56.73 seconds\n",
            "\n",
            "==============================================================\n",
            "Epoch 23 finished with Loss of 0.055\n",
            "Time taken for 1 epoch 56.65 seconds\n",
            "\n",
            "==============================================================\n",
            "Epoch 24 finished with Loss of 0.047\n",
            "Time taken for 1 epoch 56.59 seconds\n",
            "\n"
          ],
          "name": "stdout"
        }
      ]
    },
    {
      "cell_type": "code",
      "metadata": {
        "colab_type": "code",
        "id": "BJ2pFLQs4LNj",
        "outputId": "f5b94124-706c-4251-9a9d-bf5aa50f7d44",
        "colab": {
          "base_uri": "https://localhost:8080/",
          "height": 499
        }
      },
      "source": [
        "# plot loss across epochs\n",
        "plt.figure(figsize=(12,8))\n",
        "plt.plot([(i+1) for i in range(len(loss_history))], loss_history)\n",
        "plt.xticks([(i+1) for i in range(len(loss_history))])\n",
        "plt.ylabel('Loss')\n",
        "plt.title('Loss across Epochs')\n",
        "plt.show()"
      ],
      "execution_count": 0,
      "outputs": [
        {
          "output_type": "display_data",
          "data": {
            "image/png": "[encoded data removed]",
            "text/plain": [
              "<Figure size 864x576 with 1 Axes>"
            ]
          },
          "metadata": {
            "tags": [],
            "needs_background": "light"
          }
        }
      ]
    },
    {
      "cell_type": "markdown",
      "metadata": {
        "colab_type": "text",
        "id": "Bhy4bXZUDrX7"
      },
      "source": [
        "## Evaluation"
      ]
    },
    {
      "cell_type": "code",
      "metadata": {
        "colab_type": "code",
        "id": "Xke9Mr-NebxW",
        "colab": {}
      },
      "source": [
        "def get_eval_tensor(sentence):\n",
        "    processed_sentence = preprocess_sentence(sentence)\n",
        "    try:\n",
        "        inputs = [english_tokenizer.word_index[i] for i in processed_sentence.split(' ')]\n",
        "        inputs = pad_sequences([inputs], maxlen=english_tensor.shape[1], padding='post')\n",
        "        inputs = tf.convert_to_tensor(inputs)\n",
        "        return inputs\n",
        "    except:\n",
        "        return [0 for _ in processed_sentence.split(' ')]\n",
        "        # print('The Neural Network has not learned the word yet!')\n",
        "    \n",
        "def evaluate(sentence):\n",
        "    result = ''\n",
        "    # initialize encoder hidden layer\n",
        "    hidden = [tf.zeros((1, DEC_HIDDEN_DIM))]\n",
        "    enc_out, enc_hidden = encoder(get_eval_tensor(sentence), hidden, False)\n",
        "    # False means not using dropout\n",
        "    dec_hidden = enc_hidden\n",
        "    dec_input = tf.expand_dims([chinese_tokenizer.word_index['<start>']], 0)\n",
        "\n",
        "    attention_plot = np.zeros((chinese_tensor.shape[1], english_tensor.shape[1]))\n",
        "    \n",
        "\n",
        "    for t in range(english_tensor.shape[1]):\n",
        "        predictions, dec_hidden, attention_weights = decoder(\n",
        "            dec_input, dec_hidden, enc_out, False) \n",
        "        # False means not using dropout \n",
        "\n",
        "        predicted_id = tf.argmax(predictions[0]).numpy()\n",
        "        attention_weights = tf.reshape(attention_weights, (-1,))\n",
        "        attention_plot[t] = attention_weights.numpy()\n",
        "\n",
        "        try:\n",
        "            new_word = chinese_tokenizer.index_word[predicted_id] \n",
        "        except:\n",
        "            pass\n",
        "       \n",
        "        result += new_word + ' '\n",
        "        if chinese_tokenizer.index_word[predicted_id] == '<end>':\n",
        "            return result, attention_plot\n",
        "\n",
        "        dec_input = tf.expand_dims([predicted_id], 0)\n",
        "\n",
        "    return result, attention_plot"
      ],
      "execution_count": 0,
      "outputs": []
    },
    {
      "cell_type": "code",
      "metadata": {
        "colab_type": "code",
        "id": "SA-Gv3RQnlUp",
        "colab": {}
      },
      "source": [
        "def plot_attention(attention, sentence, predicted_sentence):\n",
        "    fig = go.Figure(data = go.Heatmap(z=attention[:-1,:],\n",
        "                                      x=sentence,\n",
        "                                      y=[i for i in predicted_sentence[:-1][::-1]]))\n",
        "    fig.update_xaxes(side=\"top\")\n",
        "    fig.update_layout(\n",
        "        autosize=False,\n",
        "        width=700,\n",
        "        height=500,\n",
        "        margin=dict(l=50, r=50, b=5, t=2, pad=4)\n",
        "        )\n",
        "    fig.show()"
      ],
      "execution_count": 0,
      "outputs": []
    },
    {
      "cell_type": "markdown",
      "metadata": {
        "colab_type": "text",
        "id": "APjtko_wQ2R7"
      },
      "source": [
        "### Translate"
      ]
    },
    {
      "cell_type": "code",
      "metadata": {
        "colab_type": "code",
        "id": "d78weGGShrsv",
        "colab": {}
      },
      "source": [
        "def translate(sentence, plot=False, score=False):\n",
        "    result, attention_plot = evaluate(sentence)\n",
        "    if score == False:\n",
        "        print(result.replace(' ', '').strip('<end>'))\n",
        "    if score:\n",
        "        return result.strip('<end> ')\n",
        "    if plot:\n",
        "        attention_plot = attention_plot[:len(result.split(' ')), :len(sentence.split(' '))]\n",
        "        plot_attention(attention_plot, sentence.split(' '), result.split(' '))"
      ],
      "execution_count": 0,
      "outputs": []
    },
    {
      "cell_type": "code",
      "metadata": {
        "colab_type": "code",
        "id": "HrJ4gwd-AKEM",
        "outputId": "c2dbee9d-0c1e-4dc2-f360-ed423b0f6bc1",
        "colab": {
          "base_uri": "https://localhost:8080/",
          "height": 534
        }
      },
      "source": [
        "translate('I am very hungry', plot = True)"
      ],
      "execution_count": 0,
      "outputs": [
        {
          "output_type": "stream",
          "text": [
            "我很餓。\n"
          ],
          "name": "stdout"
        },
        {
          "output_type": "display_data",
          "data": {
            "text/html": [
              "<html>\n",
              "<head><meta charset=\"utf-8\" /></head>\n",
              "<body>\n",
              "    <div>\n",
              "            <script src=\"https://cdnjs.cloudflare.com/ajax/libs/mathjax/2.7.5/MathJax.js?config=TeX-AMS-MML_SVG\"></script><script type=\"text/javascript\">if (window.MathJax) {MathJax.Hub.Config({SVG: {font: \"STIX-Web\"}});}</script>\n",
              "                <script type=\"text/javascript\">window.PlotlyConfig = {MathJaxConfig: 'local'};</script>\n",
              "        <script src=\"https://cdn.plot.ly/plotly-latest.min.js\"></script>    \n",
              "            <div id=\"7b742110-4533-4bb1-95f4-88a545f86565\" class=\"plotly-graph-div\" style=\"height:500px; width:700px;\"></div>\n",
              "            <script type=\"text/javascript\">\n",
              "                \n",
              "                    window.PLOTLYENV=window.PLOTLYENV || {};\n",
              "                    \n",
              "                if (document.getElementById(\"7b742110-4533-4bb1-95f4-88a545f86565\")) {\n",
              "                    Plotly.newPlot(\n",
              "                        '7b742110-4533-4bb1-95f4-88a545f86565',\n",
              "                        [{\"type\": \"heatmap\", \"x\": [\"I\", \"am\", \"very\", \"hungry\"], \"y\": [\"<end>\", \"\\u3002\", \"\\u9913\", \"\\u5f88\", \"\\u6211\"], \"z\": [[0.014076833613216877, 0.26605671644210815, 0.2668958604335785, 0.03902866318821907], [2.21686641452834e-05, 0.0001525978441350162, 0.003376050852239132, 0.05914563313126564], [0.12459857761859894, 0.0010658567771315575, 0.0016894276486709714, 0.004243629518896341], [0.442823201417923, 0.0026211219374090433, 0.004276738967746496, 0.005458591040223837], [0.6111838817596436, 0.009128632955253124, 0.005582579877227545, 0.011358015239238739]]}],\n",
              "                        {\"autosize\": false, \"height\": 500, \"margin\": {\"b\": 5, \"l\": 50, \"pad\": 4, \"r\": 50, \"t\": 2}, \"template\": {\"data\": {\"bar\": [{\"error_x\": {\"color\": \"#2a3f5f\"}, \"error_y\": {\"color\": \"#2a3f5f\"}, \"marker\": {\"line\": {\"color\": \"#E5ECF6\", \"width\": 0.5}}, \"type\": \"bar\"}], \"barpolar\": [{\"marker\": {\"line\": {\"color\": \"#E5ECF6\", \"width\": 0.5}}, \"type\": \"barpolar\"}], \"carpet\": [{\"aaxis\": {\"endlinecolor\": \"#2a3f5f\", \"gridcolor\": \"white\", \"linecolor\": \"white\", \"minorgridcolor\": \"white\", \"startlinecolor\": \"#2a3f5f\"}, \"baxis\": {\"endlinecolor\": \"#2a3f5f\", \"gridcolor\": \"white\", \"linecolor\": \"white\", \"minorgridcolor\": \"white\", \"startlinecolor\": \"#2a3f5f\"}, \"type\": \"carpet\"}], \"choropleth\": [{\"colorbar\": {\"outlinewidth\": 0, \"ticks\": \"\"}, \"type\": \"choropleth\"}], \"contour\": [{\"colorbar\": {\"outlinewidth\": 0, \"ticks\": \"\"}, \"colorscale\": [[0.0, \"#0d0887\"], [0.1111111111111111, \"#46039f\"], [0.2222222222222222, \"#7201a8\"], [0.3333333333333333, \"#9c179e\"], [0.4444444444444444, \"#bd3786\"], [0.5555555555555556, \"#d8576b\"], [0.6666666666666666, \"#ed7953\"], [0.7777777777777778, \"#fb9f3a\"], [0.8888888888888888, \"#fdca26\"], [1.0, \"#f0f921\"]], \"type\": \"contour\"}], \"contourcarpet\": [{\"colorbar\": {\"outlinewidth\": 0, \"ticks\": \"\"}, \"type\": \"contourcarpet\"}], \"heatmap\": [{\"colorbar\": {\"outlinewidth\": 0, \"ticks\": \"\"}, \"colorscale\": [[0.0, \"#0d0887\"], [0.1111111111111111, \"#46039f\"], [0.2222222222222222, \"#7201a8\"], [0.3333333333333333, \"#9c179e\"], [0.4444444444444444, \"#bd3786\"], [0.5555555555555556, \"#d8576b\"], [0.6666666666666666, \"#ed7953\"], [0.7777777777777778, \"#fb9f3a\"], [0.8888888888888888, \"#fdca26\"], [1.0, \"#f0f921\"]], \"type\": \"heatmap\"}], \"heatmapgl\": [{\"colorbar\": {\"outlinewidth\": 0, \"ticks\": \"\"}, \"colorscale\": [[0.0, \"#0d0887\"], [0.1111111111111111, \"#46039f\"], [0.2222222222222222, \"#7201a8\"], [0.3333333333333333, \"#9c179e\"], [0.4444444444444444, \"#bd3786\"], [0.5555555555555556, \"#d8576b\"], [0.6666666666666666, \"#ed7953\"], [0.7777777777777778, \"#fb9f3a\"], [0.8888888888888888, \"#fdca26\"], [1.0, \"#f0f921\"]], \"type\": \"heatmapgl\"}], \"histogram\": [{\"marker\": {\"colorbar\": {\"outlinewidth\": 0, \"ticks\": \"\"}}, \"type\": \"histogram\"}], \"histogram2d\": [{\"colorbar\": {\"outlinewidth\": 0, \"ticks\": \"\"}, \"colorscale\": [[0.0, \"#0d0887\"], [0.1111111111111111, \"#46039f\"], [0.2222222222222222, \"#7201a8\"], [0.3333333333333333, \"#9c179e\"], [0.4444444444444444, \"#bd3786\"], [0.5555555555555556, \"#d8576b\"], [0.6666666666666666, \"#ed7953\"], [0.7777777777777778, \"#fb9f3a\"], [0.8888888888888888, \"#fdca26\"], [1.0, \"#f0f921\"]], \"type\": \"histogram2d\"}], \"histogram2dcontour\": [{\"colorbar\": {\"outlinewidth\": 0, \"ticks\": \"\"}, \"colorscale\": [[0.0, \"#0d0887\"], [0.1111111111111111, \"#46039f\"], [0.2222222222222222, \"#7201a8\"], [0.3333333333333333, \"#9c179e\"], [0.4444444444444444, \"#bd3786\"], [0.5555555555555556, \"#d8576b\"], [0.6666666666666666, \"#ed7953\"], [0.7777777777777778, \"#fb9f3a\"], [0.8888888888888888, \"#fdca26\"], [1.0, \"#f0f921\"]], \"type\": \"histogram2dcontour\"}], \"mesh3d\": [{\"colorbar\": {\"outlinewidth\": 0, \"ticks\": \"\"}, \"type\": \"mesh3d\"}], \"parcoords\": [{\"line\": {\"colorbar\": {\"outlinewidth\": 0, \"ticks\": \"\"}}, \"type\": \"parcoords\"}], \"pie\": [{\"automargin\": true, \"type\": \"pie\"}], \"scatter\": [{\"marker\": {\"colorbar\": {\"outlinewidth\": 0, \"ticks\": \"\"}}, \"type\": \"scatter\"}], \"scatter3d\": [{\"line\": {\"colorbar\": {\"outlinewidth\": 0, \"ticks\": \"\"}}, \"marker\": {\"colorbar\": {\"outlinewidth\": 0, \"ticks\": \"\"}}, \"type\": \"scatter3d\"}], \"scattercarpet\": [{\"marker\": {\"colorbar\": {\"outlinewidth\": 0, \"ticks\": \"\"}}, \"type\": \"scattercarpet\"}], \"scattergeo\": [{\"marker\": {\"colorbar\": {\"outlinewidth\": 0, \"ticks\": \"\"}}, \"type\": \"scattergeo\"}], \"scattergl\": [{\"marker\": {\"colorbar\": {\"outlinewidth\": 0, \"ticks\": \"\"}}, \"type\": \"scattergl\"}], \"scattermapbox\": [{\"marker\": {\"colorbar\": {\"outlinewidth\": 0, \"ticks\": \"\"}}, \"type\": \"scattermapbox\"}], \"scatterpolar\": [{\"marker\": {\"colorbar\": {\"outlinewidth\": 0, \"ticks\": \"\"}}, \"type\": \"scatterpolar\"}], \"scatterpolargl\": [{\"marker\": {\"colorbar\": {\"outlinewidth\": 0, \"ticks\": \"\"}}, \"type\": \"scatterpolargl\"}], \"scatterternary\": [{\"marker\": {\"colorbar\": {\"outlinewidth\": 0, \"ticks\": \"\"}}, \"type\": \"scatterternary\"}], \"surface\": [{\"colorbar\": {\"outlinewidth\": 0, \"ticks\": \"\"}, \"colorscale\": [[0.0, \"#0d0887\"], [0.1111111111111111, \"#46039f\"], [0.2222222222222222, \"#7201a8\"], [0.3333333333333333, \"#9c179e\"], [0.4444444444444444, \"#bd3786\"], [0.5555555555555556, \"#d8576b\"], [0.6666666666666666, \"#ed7953\"], [0.7777777777777778, \"#fb9f3a\"], [0.8888888888888888, \"#fdca26\"], [1.0, \"#f0f921\"]], \"type\": \"surface\"}], \"table\": [{\"cells\": {\"fill\": {\"color\": \"#EBF0F8\"}, \"line\": {\"color\": \"white\"}}, \"header\": {\"fill\": {\"color\": \"#C8D4E3\"}, \"line\": {\"color\": \"white\"}}, \"type\": \"table\"}]}, \"layout\": {\"annotationdefaults\": {\"arrowcolor\": \"#2a3f5f\", \"arrowhead\": 0, \"arrowwidth\": 1}, \"coloraxis\": {\"colorbar\": {\"outlinewidth\": 0, \"ticks\": \"\"}}, \"colorscale\": {\"diverging\": [[0, \"#8e0152\"], [0.1, \"#c51b7d\"], [0.2, \"#de77ae\"], [0.3, \"#f1b6da\"], [0.4, \"#fde0ef\"], [0.5, \"#f7f7f7\"], [0.6, \"#e6f5d0\"], [0.7, \"#b8e186\"], [0.8, \"#7fbc41\"], [0.9, \"#4d9221\"], [1, \"#276419\"]], \"sequential\": [[0.0, \"#0d0887\"], [0.1111111111111111, \"#46039f\"], [0.2222222222222222, \"#7201a8\"], [0.3333333333333333, \"#9c179e\"], [0.4444444444444444, \"#bd3786\"], [0.5555555555555556, \"#d8576b\"], [0.6666666666666666, \"#ed7953\"], [0.7777777777777778, \"#fb9f3a\"], [0.8888888888888888, \"#fdca26\"], [1.0, \"#f0f921\"]], \"sequentialminus\": [[0.0, \"#0d0887\"], [0.1111111111111111, \"#46039f\"], [0.2222222222222222, \"#7201a8\"], [0.3333333333333333, \"#9c179e\"], [0.4444444444444444, \"#bd3786\"], [0.5555555555555556, \"#d8576b\"], [0.6666666666666666, \"#ed7953\"], [0.7777777777777778, \"#fb9f3a\"], [0.8888888888888888, \"#fdca26\"], [1.0, \"#f0f921\"]]}, \"colorway\": [\"#636efa\", \"#EF553B\", \"#00cc96\", \"#ab63fa\", \"#FFA15A\", \"#19d3f3\", \"#FF6692\", \"#B6E880\", \"#FF97FF\", \"#FECB52\"], \"font\": {\"color\": \"#2a3f5f\"}, \"geo\": {\"bgcolor\": \"white\", \"lakecolor\": \"white\", \"landcolor\": \"#E5ECF6\", \"showlakes\": true, \"showland\": true, \"subunitcolor\": \"white\"}, \"hoverlabel\": {\"align\": \"left\"}, \"hovermode\": \"closest\", \"mapbox\": {\"style\": \"light\"}, \"paper_bgcolor\": \"white\", \"plot_bgcolor\": \"#E5ECF6\", \"polar\": {\"angularaxis\": {\"gridcolor\": \"white\", \"linecolor\": \"white\", \"ticks\": \"\"}, \"bgcolor\": \"#E5ECF6\", \"radialaxis\": {\"gridcolor\": \"white\", \"linecolor\": \"white\", \"ticks\": \"\"}}, \"scene\": {\"xaxis\": {\"backgroundcolor\": \"#E5ECF6\", \"gridcolor\": \"white\", \"gridwidth\": 2, \"linecolor\": \"white\", \"showbackground\": true, \"ticks\": \"\", \"zerolinecolor\": \"white\"}, \"yaxis\": {\"backgroundcolor\": \"#E5ECF6\", \"gridcolor\": \"white\", \"gridwidth\": 2, \"linecolor\": \"white\", \"showbackground\": true, \"ticks\": \"\", \"zerolinecolor\": \"white\"}, \"zaxis\": {\"backgroundcolor\": \"#E5ECF6\", \"gridcolor\": \"white\", \"gridwidth\": 2, \"linecolor\": \"white\", \"showbackground\": true, \"ticks\": \"\", \"zerolinecolor\": \"white\"}}, \"shapedefaults\": {\"line\": {\"color\": \"#2a3f5f\"}}, \"ternary\": {\"aaxis\": {\"gridcolor\": \"white\", \"linecolor\": \"white\", \"ticks\": \"\"}, \"baxis\": {\"gridcolor\": \"white\", \"linecolor\": \"white\", \"ticks\": \"\"}, \"bgcolor\": \"#E5ECF6\", \"caxis\": {\"gridcolor\": \"white\", \"linecolor\": \"white\", \"ticks\": \"\"}}, \"title\": {\"x\": 0.05}, \"xaxis\": {\"automargin\": true, \"gridcolor\": \"white\", \"linecolor\": \"white\", \"ticks\": \"\", \"title\": {\"standoff\": 15}, \"zerolinecolor\": \"white\", \"zerolinewidth\": 2}, \"yaxis\": {\"automargin\": true, \"gridcolor\": \"white\", \"linecolor\": \"white\", \"ticks\": \"\", \"title\": {\"standoff\": 15}, \"zerolinecolor\": \"white\", \"zerolinewidth\": 2}}}, \"width\": 700, \"xaxis\": {\"side\": \"top\"}},\n",
              "                        {\"responsive\": true}\n",
              "                    ).then(function(){\n",
              "                            \n",
              "var gd = document.getElementById('7b742110-4533-4bb1-95f4-88a545f86565');\n",
              "var x = new MutationObserver(function (mutations, observer) {{\n",
              "        var display = window.getComputedStyle(gd).display;\n",
              "        if (!display || display === 'none') {{\n",
              "            console.log([gd, 'removed!']);\n",
              "            Plotly.purge(gd);\n",
              "            observer.disconnect();\n",
              "        }}\n",
              "}});\n",
              "\n",
              "// Listen for the removal of the full notebook cells\n",
              "var notebookContainer = gd.closest('#notebook-container');\n",
              "if (notebookContainer) {{\n",
              "    x.observe(notebookContainer, {childList: true});\n",
              "}}\n",
              "\n",
              "// Listen for the clearing of the current output cell\n",
              "var outputEl = gd.closest('.output');\n",
              "if (outputEl) {{\n",
              "    x.observe(outputEl, {childList: true});\n",
              "}}\n",
              "\n",
              "                        })\n",
              "                };\n",
              "                \n",
              "            </script>\n",
              "        </div>\n",
              "</body>\n",
              "</html>"
            ]
          },
          "metadata": {
            "tags": []
          }
        }
      ]
    },
    {
      "cell_type": "code",
      "metadata": {
        "colab_type": "code",
        "id": "dNDhxZGHPDeS",
        "outputId": "752a3365-8b8e-4e44-c1ad-560f189ad4df",
        "colab": {
          "base_uri": "https://localhost:8080/",
          "height": 534
        }
      },
      "source": [
        "translate('He is the only person I know', plot = True)"
      ],
      "execution_count": 0,
      "outputs": [
        {
          "output_type": "stream",
          "text": [
            "他是我认识的人。\n"
          ],
          "name": "stdout"
        },
        {
          "output_type": "display_data",
          "data": {
            "text/html": [
              "<html>\n",
              "<head><meta charset=\"utf-8\" /></head>\n",
              "<body>\n",
              "    <div>\n",
              "            <script src=\"https://cdnjs.cloudflare.com/ajax/libs/mathjax/2.7.5/MathJax.js?config=TeX-AMS-MML_SVG\"></script><script type=\"text/javascript\">if (window.MathJax) {MathJax.Hub.Config({SVG: {font: \"STIX-Web\"}});}</script>\n",
              "                <script type=\"text/javascript\">window.PlotlyConfig = {MathJaxConfig: 'local'};</script>\n",
              "        <script src=\"https://cdn.plot.ly/plotly-latest.min.js\"></script>    \n",
              "            <div id=\"c7cba816-7329-4624-9428-e44a39cbf97b\" class=\"plotly-graph-div\" style=\"height:500px; width:700px;\"></div>\n",
              "            <script type=\"text/javascript\">\n",
              "                \n",
              "                    window.PLOTLYENV=window.PLOTLYENV || {};\n",
              "                    \n",
              "                if (document.getElementById(\"c7cba816-7329-4624-9428-e44a39cbf97b\")) {\n",
              "                    Plotly.newPlot(\n",
              "                        'c7cba816-7329-4624-9428-e44a39cbf97b',\n",
              "                        [{\"type\": \"heatmap\", \"x\": [\"He\", \"is\", \"the\", \"only\", \"person\", \"I\", \"know\"], \"y\": [\"<end>\", \"\\u3002\", \"\\u4eba\", \"\\u7684\", \"\\u8ba4\\u8bc6\", \"\\u6211\", \"\\u662f\", \"\\u4ed6\"], \"z\": [[0.00155766645912081, 0.339986652135849, 0.08326361328363419, 0.07209869474172592, 0.009527510963380337, 0.007164676673710346, 0.020582830533385277], [0.0003332244523335248, 0.00020222498278599232, 0.0037429898511618376, 0.06755342334508896, 0.2004740685224533, 0.07015169411897659, 0.15378224849700928], [0.05261871591210365, 0.0010871442500501871, 0.001186693785712123, 0.015489227138459682, 0.04364146292209625, 0.04941413924098015, 0.05200640484690666], [0.26273488998413086, 0.03786643594503403, 0.004663215018808842, 0.016576938331127167, 0.045028891414403915, 0.045252423733472824, 0.04471813887357712], [0.37879642844200134, 0.0033114065881818533, 0.0005857540527358651, 0.005640871822834015, 0.021901968866586685, 0.031927574425935745, 0.03193465620279312], [0.4386237859725952, 0.017145657911896706, 0.006409467197954655, 0.012521322816610336, 0.021334422752261162, 0.03038533218204975, 0.026323024183511734], [0.4568581283092499, 0.11334709823131561, 0.004259823821485043, 0.012342900037765503, 0.018854808062314987, 0.020125973969697952, 0.023526405915617943], [0.5237261652946472, 0.051267411559820175, 0.00656302971765399, 0.01337274257093668, 0.01671419106423855, 0.0205581896007061, 0.017577040940523148]]}],\n",
              "                        {\"autosize\": false, \"height\": 500, \"margin\": {\"b\": 5, \"l\": 50, \"pad\": 4, \"r\": 50, \"t\": 2}, \"template\": {\"data\": {\"bar\": [{\"error_x\": {\"color\": \"#2a3f5f\"}, \"error_y\": {\"color\": \"#2a3f5f\"}, \"marker\": {\"line\": {\"color\": \"#E5ECF6\", \"width\": 0.5}}, \"type\": \"bar\"}], \"barpolar\": [{\"marker\": {\"line\": {\"color\": \"#E5ECF6\", \"width\": 0.5}}, \"type\": \"barpolar\"}], \"carpet\": [{\"aaxis\": {\"endlinecolor\": \"#2a3f5f\", \"gridcolor\": \"white\", \"linecolor\": \"white\", \"minorgridcolor\": \"white\", \"startlinecolor\": \"#2a3f5f\"}, \"baxis\": {\"endlinecolor\": \"#2a3f5f\", \"gridcolor\": \"white\", \"linecolor\": \"white\", \"minorgridcolor\": \"white\", \"startlinecolor\": \"#2a3f5f\"}, \"type\": \"carpet\"}], \"choropleth\": [{\"colorbar\": {\"outlinewidth\": 0, \"ticks\": \"\"}, \"type\": \"choropleth\"}], \"contour\": [{\"colorbar\": {\"outlinewidth\": 0, \"ticks\": \"\"}, \"colorscale\": [[0.0, \"#0d0887\"], [0.1111111111111111, \"#46039f\"], [0.2222222222222222, \"#7201a8\"], [0.3333333333333333, \"#9c179e\"], [0.4444444444444444, \"#bd3786\"], [0.5555555555555556, \"#d8576b\"], [0.6666666666666666, \"#ed7953\"], [0.7777777777777778, \"#fb9f3a\"], [0.8888888888888888, \"#fdca26\"], [1.0, \"#f0f921\"]], \"type\": \"contour\"}], \"contourcarpet\": [{\"colorbar\": {\"outlinewidth\": 0, \"ticks\": \"\"}, \"type\": \"contourcarpet\"}], \"heatmap\": [{\"colorbar\": {\"outlinewidth\": 0, \"ticks\": \"\"}, \"colorscale\": [[0.0, \"#0d0887\"], [0.1111111111111111, \"#46039f\"], [0.2222222222222222, \"#7201a8\"], [0.3333333333333333, \"#9c179e\"], [0.4444444444444444, \"#bd3786\"], [0.5555555555555556, \"#d8576b\"], [0.6666666666666666, \"#ed7953\"], [0.7777777777777778, \"#fb9f3a\"], [0.8888888888888888, \"#fdca26\"], [1.0, \"#f0f921\"]], \"type\": \"heatmap\"}], \"heatmapgl\": [{\"colorbar\": {\"outlinewidth\": 0, \"ticks\": \"\"}, \"colorscale\": [[0.0, \"#0d0887\"], [0.1111111111111111, \"#46039f\"], [0.2222222222222222, \"#7201a8\"], [0.3333333333333333, \"#9c179e\"], [0.4444444444444444, \"#bd3786\"], [0.5555555555555556, \"#d8576b\"], [0.6666666666666666, \"#ed7953\"], [0.7777777777777778, \"#fb9f3a\"], [0.8888888888888888, \"#fdca26\"], [1.0, \"#f0f921\"]], \"type\": \"heatmapgl\"}], \"histogram\": [{\"marker\": {\"colorbar\": {\"outlinewidth\": 0, \"ticks\": \"\"}}, \"type\": \"histogram\"}], \"histogram2d\": [{\"colorbar\": {\"outlinewidth\": 0, \"ticks\": \"\"}, \"colorscale\": [[0.0, \"#0d0887\"], [0.1111111111111111, \"#46039f\"], [0.2222222222222222, \"#7201a8\"], [0.3333333333333333, \"#9c179e\"], [0.4444444444444444, \"#bd3786\"], [0.5555555555555556, \"#d8576b\"], [0.6666666666666666, \"#ed7953\"], [0.7777777777777778, \"#fb9f3a\"], [0.8888888888888888, \"#fdca26\"], [1.0, \"#f0f921\"]], \"type\": \"histogram2d\"}], \"histogram2dcontour\": [{\"colorbar\": {\"outlinewidth\": 0, \"ticks\": \"\"}, \"colorscale\": [[0.0, \"#0d0887\"], [0.1111111111111111, \"#46039f\"], [0.2222222222222222, \"#7201a8\"], [0.3333333333333333, \"#9c179e\"], [0.4444444444444444, \"#bd3786\"], [0.5555555555555556, \"#d8576b\"], [0.6666666666666666, \"#ed7953\"], [0.7777777777777778, \"#fb9f3a\"], [0.8888888888888888, \"#fdca26\"], [1.0, \"#f0f921\"]], \"type\": \"histogram2dcontour\"}], \"mesh3d\": [{\"colorbar\": {\"outlinewidth\": 0, \"ticks\": \"\"}, \"type\": \"mesh3d\"}], \"parcoords\": [{\"line\": {\"colorbar\": {\"outlinewidth\": 0, \"ticks\": \"\"}}, \"type\": \"parcoords\"}], \"pie\": [{\"automargin\": true, \"type\": \"pie\"}], \"scatter\": [{\"marker\": {\"colorbar\": {\"outlinewidth\": 0, \"ticks\": \"\"}}, \"type\": \"scatter\"}], \"scatter3d\": [{\"line\": {\"colorbar\": {\"outlinewidth\": 0, \"ticks\": \"\"}}, \"marker\": {\"colorbar\": {\"outlinewidth\": 0, \"ticks\": \"\"}}, \"type\": \"scatter3d\"}], \"scattercarpet\": [{\"marker\": {\"colorbar\": {\"outlinewidth\": 0, \"ticks\": \"\"}}, \"type\": \"scattercarpet\"}], \"scattergeo\": [{\"marker\": {\"colorbar\": {\"outlinewidth\": 0, \"ticks\": \"\"}}, \"type\": \"scattergeo\"}], \"scattergl\": [{\"marker\": {\"colorbar\": {\"outlinewidth\": 0, \"ticks\": \"\"}}, \"type\": \"scattergl\"}], \"scattermapbox\": [{\"marker\": {\"colorbar\": {\"outlinewidth\": 0, \"ticks\": \"\"}}, \"type\": \"scattermapbox\"}], \"scatterpolar\": [{\"marker\": {\"colorbar\": {\"outlinewidth\": 0, \"ticks\": \"\"}}, \"type\": \"scatterpolar\"}], \"scatterpolargl\": [{\"marker\": {\"colorbar\": {\"outlinewidth\": 0, \"ticks\": \"\"}}, \"type\": \"scatterpolargl\"}], \"scatterternary\": [{\"marker\": {\"colorbar\": {\"outlinewidth\": 0, \"ticks\": \"\"}}, \"type\": \"scatterternary\"}], \"surface\": [{\"colorbar\": {\"outlinewidth\": 0, \"ticks\": \"\"}, \"colorscale\": [[0.0, \"#0d0887\"], [0.1111111111111111, \"#46039f\"], [0.2222222222222222, \"#7201a8\"], [0.3333333333333333, \"#9c179e\"], [0.4444444444444444, \"#bd3786\"], [0.5555555555555556, \"#d8576b\"], [0.6666666666666666, \"#ed7953\"], [0.7777777777777778, \"#fb9f3a\"], [0.8888888888888888, \"#fdca26\"], [1.0, \"#f0f921\"]], \"type\": \"surface\"}], \"table\": [{\"cells\": {\"fill\": {\"color\": \"#EBF0F8\"}, \"line\": {\"color\": \"white\"}}, \"header\": {\"fill\": {\"color\": \"#C8D4E3\"}, \"line\": {\"color\": \"white\"}}, \"type\": \"table\"}]}, \"layout\": {\"annotationdefaults\": {\"arrowcolor\": \"#2a3f5f\", \"arrowhead\": 0, \"arrowwidth\": 1}, \"coloraxis\": {\"colorbar\": {\"outlinewidth\": 0, \"ticks\": \"\"}}, \"colorscale\": {\"diverging\": [[0, \"#8e0152\"], [0.1, \"#c51b7d\"], [0.2, \"#de77ae\"], [0.3, \"#f1b6da\"], [0.4, \"#fde0ef\"], [0.5, \"#f7f7f7\"], [0.6, \"#e6f5d0\"], [0.7, \"#b8e186\"], [0.8, \"#7fbc41\"], [0.9, \"#4d9221\"], [1, \"#276419\"]], \"sequential\": [[0.0, \"#0d0887\"], [0.1111111111111111, \"#46039f\"], [0.2222222222222222, \"#7201a8\"], [0.3333333333333333, \"#9c179e\"], [0.4444444444444444, \"#bd3786\"], [0.5555555555555556, \"#d8576b\"], [0.6666666666666666, \"#ed7953\"], [0.7777777777777778, \"#fb9f3a\"], [0.8888888888888888, \"#fdca26\"], [1.0, \"#f0f921\"]], \"sequentialminus\": [[0.0, \"#0d0887\"], [0.1111111111111111, \"#46039f\"], [0.2222222222222222, \"#7201a8\"], [0.3333333333333333, \"#9c179e\"], [0.4444444444444444, \"#bd3786\"], [0.5555555555555556, \"#d8576b\"], [0.6666666666666666, \"#ed7953\"], [0.7777777777777778, \"#fb9f3a\"], [0.8888888888888888, \"#fdca26\"], [1.0, \"#f0f921\"]]}, \"colorway\": [\"#636efa\", \"#EF553B\", \"#00cc96\", \"#ab63fa\", \"#FFA15A\", \"#19d3f3\", \"#FF6692\", \"#B6E880\", \"#FF97FF\", \"#FECB52\"], \"font\": {\"color\": \"#2a3f5f\"}, \"geo\": {\"bgcolor\": \"white\", \"lakecolor\": \"white\", \"landcolor\": \"#E5ECF6\", \"showlakes\": true, \"showland\": true, \"subunitcolor\": \"white\"}, \"hoverlabel\": {\"align\": \"left\"}, \"hovermode\": \"closest\", \"mapbox\": {\"style\": \"light\"}, \"paper_bgcolor\": \"white\", \"plot_bgcolor\": \"#E5ECF6\", \"polar\": {\"angularaxis\": {\"gridcolor\": \"white\", \"linecolor\": \"white\", \"ticks\": \"\"}, \"bgcolor\": \"#E5ECF6\", \"radialaxis\": {\"gridcolor\": \"white\", \"linecolor\": \"white\", \"ticks\": \"\"}}, \"scene\": {\"xaxis\": {\"backgroundcolor\": \"#E5ECF6\", \"gridcolor\": \"white\", \"gridwidth\": 2, \"linecolor\": \"white\", \"showbackground\": true, \"ticks\": \"\", \"zerolinecolor\": \"white\"}, \"yaxis\": {\"backgroundcolor\": \"#E5ECF6\", \"gridcolor\": \"white\", \"gridwidth\": 2, \"linecolor\": \"white\", \"showbackground\": true, \"ticks\": \"\", \"zerolinecolor\": \"white\"}, \"zaxis\": {\"backgroundcolor\": \"#E5ECF6\", \"gridcolor\": \"white\", \"gridwidth\": 2, \"linecolor\": \"white\", \"showbackground\": true, \"ticks\": \"\", \"zerolinecolor\": \"white\"}}, \"shapedefaults\": {\"line\": {\"color\": \"#2a3f5f\"}}, \"ternary\": {\"aaxis\": {\"gridcolor\": \"white\", \"linecolor\": \"white\", \"ticks\": \"\"}, \"baxis\": {\"gridcolor\": \"white\", \"linecolor\": \"white\", \"ticks\": \"\"}, \"bgcolor\": \"#E5ECF6\", \"caxis\": {\"gridcolor\": \"white\", \"linecolor\": \"white\", \"ticks\": \"\"}}, \"title\": {\"x\": 0.05}, \"xaxis\": {\"automargin\": true, \"gridcolor\": \"white\", \"linecolor\": \"white\", \"ticks\": \"\", \"title\": {\"standoff\": 15}, \"zerolinecolor\": \"white\", \"zerolinewidth\": 2}, \"yaxis\": {\"automargin\": true, \"gridcolor\": \"white\", \"linecolor\": \"white\", \"ticks\": \"\", \"title\": {\"standoff\": 15}, \"zerolinecolor\": \"white\", \"zerolinewidth\": 2}}}, \"width\": 700, \"xaxis\": {\"side\": \"top\"}},\n",
              "                        {\"responsive\": true}\n",
              "                    ).then(function(){\n",
              "                            \n",
              "var gd = document.getElementById('c7cba816-7329-4624-9428-e44a39cbf97b');\n",
              "var x = new MutationObserver(function (mutations, observer) {{\n",
              "        var display = window.getComputedStyle(gd).display;\n",
              "        if (!display || display === 'none') {{\n",
              "            console.log([gd, 'removed!']);\n",
              "            Plotly.purge(gd);\n",
              "            observer.disconnect();\n",
              "        }}\n",
              "}});\n",
              "\n",
              "// Listen for the removal of the full notebook cells\n",
              "var notebookContainer = gd.closest('#notebook-container');\n",
              "if (notebookContainer) {{\n",
              "    x.observe(notebookContainer, {childList: true});\n",
              "}}\n",
              "\n",
              "// Listen for the clearing of the current output cell\n",
              "var outputEl = gd.closest('.output');\n",
              "if (outputEl) {{\n",
              "    x.observe(outputEl, {childList: true});\n",
              "}}\n",
              "\n",
              "                        })\n",
              "                };\n",
              "                \n",
              "            </script>\n",
              "        </div>\n",
              "</body>\n",
              "</html>"
            ]
          },
          "metadata": {
            "tags": []
          }
        }
      ]
    },
    {
      "cell_type": "code",
      "metadata": {
        "colab_type": "code",
        "id": "NFQr9yY1cmeN",
        "outputId": "e98e927e-b5ea-491d-d746-900af1240e1d",
        "colab": {
          "base_uri": "https://localhost:8080/",
          "height": 534
        }
      },
      "source": [
        "translate('We move so fast that he cannot catch us', plot = True)"
      ],
      "execution_count": 0,
      "outputs": [
        {
          "output_type": "stream",
          "text": [
            "我们的天气得他能赶上他。\n"
          ],
          "name": "stdout"
        },
        {
          "output_type": "display_data",
          "data": {
            "text/html": [
              "<html>\n",
              "<head><meta charset=\"utf-8\" /></head>\n",
              "<body>\n",
              "    <div>\n",
              "            <script src=\"https://cdnjs.cloudflare.com/ajax/libs/mathjax/2.7.5/MathJax.js?config=TeX-AMS-MML_SVG\"></script><script type=\"text/javascript\">if (window.MathJax) {MathJax.Hub.Config({SVG: {font: \"STIX-Web\"}});}</script>\n",
              "                <script type=\"text/javascript\">window.PlotlyConfig = {MathJaxConfig: 'local'};</script>\n",
              "        <script src=\"https://cdn.plot.ly/plotly-latest.min.js\"></script>    \n",
              "            <div id=\"05611a10-ec84-4ca3-9195-aa6dbd80fa17\" class=\"plotly-graph-div\" style=\"height:500px; width:700px;\"></div>\n",
              "            <script type=\"text/javascript\">\n",
              "                \n",
              "                    window.PLOTLYENV=window.PLOTLYENV || {};\n",
              "                    \n",
              "                if (document.getElementById(\"05611a10-ec84-4ca3-9195-aa6dbd80fa17\")) {\n",
              "                    Plotly.newPlot(\n",
              "                        '05611a10-ec84-4ca3-9195-aa6dbd80fa17',\n",
              "                        [{\"type\": \"heatmap\", \"x\": [\"We\", \"move\", \"so\", \"fast\", \"that\", \"he\", \"cannot\", \"catch\", \"us\"], \"y\": [\"<end>\", \"\\u3002\", \"\\u4ed6\", \"\\u8d76\\u4e0a\", \"\\u80fd\", \"\\u4ed6\", \"\\u5f97\", \"\\u5929\\u6c14\", \"\\u7684\", \"\\u6211\\u4eec\"], \"z\": [[0.00026054258341901004, 0.16151052713394165, 0.06817492097616196, 0.03851042315363884, 0.027024123817682266, 0.04072745516896248, 0.02506406046450138, 0.11983908712863922, 0.051271479576826096], [0.0002971297944895923, 0.0002629606460686773, 0.03478895127773285, 0.1284714788198471, 0.10137539356946945, 0.11490777879953384, 0.06408590823411942, 0.2143958956003189, 0.039207395166158676], [0.07666736096143723, 0.0014005705015733838, 0.0048078433610498905, 0.030586181208491325, 0.05308132618665695, 0.06055714935064316, 0.06961429864168167, 0.05965558812022209, 0.08841919153928757], [0.04645630344748497, 0.03354395180940628, 0.005098833702504635, 0.01009772252291441, 0.03730437904596329, 0.04245813563466072, 0.08609700202941895, 0.0896231159567833, 0.0796804130077362], [0.26905694603919983, 0.004140716511756182, 0.0028010879177600145, 0.008056346327066422, 0.036302048712968826, 0.04735120013356209, 0.0538664311170578, 0.05316365137696266, 0.0671619325876236], [0.32807472348213196, 0.03452996537089348, 0.008384602144360542, 0.01649731583893299, 0.028522739186882973, 0.037519995123147964, 0.04983074218034744, 0.04594087228178978, 0.05952100455760956], [0.4159010350704193, 0.005173513665795326, 0.003872313303872943, 0.007801178842782974, 0.032877832651138306, 0.025344770401716232, 0.030547598376870155, 0.026159675791859627, 0.053810421377420425], [0.48325973749160767, 0.00685257650911808, 0.006192467175424099, 0.010339749045670033, 0.018101029098033905, 0.018147248774766922, 0.0342511385679245, 0.025080937892198563, 0.04508792981505394], [0.5784392356872559, 0.01418345607817173, 0.00565996952354908, 0.007962118834257126, 0.02531573921442032, 0.02803691290318966, 0.02846122905611992, 0.028230194002389908, 0.03143318369984627], [0.48026615381240845, 0.05859969183802605, 0.01663028635084629, 0.02981971949338913, 0.03608663007616997, 0.028877053409814835, 0.02512107975780964, 0.025183483958244324, 0.03613930568099022]]}],\n",
              "                        {\"autosize\": false, \"height\": 500, \"margin\": {\"b\": 5, \"l\": 50, \"pad\": 4, \"r\": 50, \"t\": 2}, \"template\": {\"data\": {\"bar\": [{\"error_x\": {\"color\": \"#2a3f5f\"}, \"error_y\": {\"color\": \"#2a3f5f\"}, \"marker\": {\"line\": {\"color\": \"#E5ECF6\", \"width\": 0.5}}, \"type\": \"bar\"}], \"barpolar\": [{\"marker\": {\"line\": {\"color\": \"#E5ECF6\", \"width\": 0.5}}, \"type\": \"barpolar\"}], \"carpet\": [{\"aaxis\": {\"endlinecolor\": \"#2a3f5f\", \"gridcolor\": \"white\", \"linecolor\": \"white\", \"minorgridcolor\": \"white\", \"startlinecolor\": \"#2a3f5f\"}, \"baxis\": {\"endlinecolor\": \"#2a3f5f\", \"gridcolor\": \"white\", \"linecolor\": \"white\", \"minorgridcolor\": \"white\", \"startlinecolor\": \"#2a3f5f\"}, \"type\": \"carpet\"}], \"choropleth\": [{\"colorbar\": {\"outlinewidth\": 0, \"ticks\": \"\"}, \"type\": \"choropleth\"}], \"contour\": [{\"colorbar\": {\"outlinewidth\": 0, \"ticks\": \"\"}, \"colorscale\": [[0.0, \"#0d0887\"], [0.1111111111111111, \"#46039f\"], [0.2222222222222222, \"#7201a8\"], [0.3333333333333333, \"#9c179e\"], [0.4444444444444444, \"#bd3786\"], [0.5555555555555556, \"#d8576b\"], [0.6666666666666666, \"#ed7953\"], [0.7777777777777778, \"#fb9f3a\"], [0.8888888888888888, \"#fdca26\"], [1.0, \"#f0f921\"]], \"type\": \"contour\"}], \"contourcarpet\": [{\"colorbar\": {\"outlinewidth\": 0, \"ticks\": \"\"}, \"type\": \"contourcarpet\"}], \"heatmap\": [{\"colorbar\": {\"outlinewidth\": 0, \"ticks\": \"\"}, \"colorscale\": [[0.0, \"#0d0887\"], [0.1111111111111111, \"#46039f\"], [0.2222222222222222, \"#7201a8\"], [0.3333333333333333, \"#9c179e\"], [0.4444444444444444, \"#bd3786\"], [0.5555555555555556, \"#d8576b\"], [0.6666666666666666, \"#ed7953\"], [0.7777777777777778, \"#fb9f3a\"], [0.8888888888888888, \"#fdca26\"], [1.0, \"#f0f921\"]], \"type\": \"heatmap\"}], \"heatmapgl\": [{\"colorbar\": {\"outlinewidth\": 0, \"ticks\": \"\"}, \"colorscale\": [[0.0, \"#0d0887\"], [0.1111111111111111, \"#46039f\"], [0.2222222222222222, \"#7201a8\"], [0.3333333333333333, \"#9c179e\"], [0.4444444444444444, \"#bd3786\"], [0.5555555555555556, \"#d8576b\"], [0.6666666666666666, \"#ed7953\"], [0.7777777777777778, \"#fb9f3a\"], [0.8888888888888888, \"#fdca26\"], [1.0, \"#f0f921\"]], \"type\": \"heatmapgl\"}], \"histogram\": [{\"marker\": {\"colorbar\": {\"outlinewidth\": 0, \"ticks\": \"\"}}, \"type\": \"histogram\"}], \"histogram2d\": [{\"colorbar\": {\"outlinewidth\": 0, \"ticks\": \"\"}, \"colorscale\": [[0.0, \"#0d0887\"], [0.1111111111111111, \"#46039f\"], [0.2222222222222222, \"#7201a8\"], [0.3333333333333333, \"#9c179e\"], [0.4444444444444444, \"#bd3786\"], [0.5555555555555556, \"#d8576b\"], [0.6666666666666666, \"#ed7953\"], [0.7777777777777778, \"#fb9f3a\"], [0.8888888888888888, \"#fdca26\"], [1.0, \"#f0f921\"]], \"type\": \"histogram2d\"}], \"histogram2dcontour\": [{\"colorbar\": {\"outlinewidth\": 0, \"ticks\": \"\"}, \"colorscale\": [[0.0, \"#0d0887\"], [0.1111111111111111, \"#46039f\"], [0.2222222222222222, \"#7201a8\"], [0.3333333333333333, \"#9c179e\"], [0.4444444444444444, \"#bd3786\"], [0.5555555555555556, \"#d8576b\"], [0.6666666666666666, \"#ed7953\"], [0.7777777777777778, \"#fb9f3a\"], [0.8888888888888888, \"#fdca26\"], [1.0, \"#f0f921\"]], \"type\": \"histogram2dcontour\"}], \"mesh3d\": [{\"colorbar\": {\"outlinewidth\": 0, \"ticks\": \"\"}, \"type\": \"mesh3d\"}], \"parcoords\": [{\"line\": {\"colorbar\": {\"outlinewidth\": 0, \"ticks\": \"\"}}, \"type\": \"parcoords\"}], \"pie\": [{\"automargin\": true, \"type\": \"pie\"}], \"scatter\": [{\"marker\": {\"colorbar\": {\"outlinewidth\": 0, \"ticks\": \"\"}}, \"type\": \"scatter\"}], \"scatter3d\": [{\"line\": {\"colorbar\": {\"outlinewidth\": 0, \"ticks\": \"\"}}, \"marker\": {\"colorbar\": {\"outlinewidth\": 0, \"ticks\": \"\"}}, \"type\": \"scatter3d\"}], \"scattercarpet\": [{\"marker\": {\"colorbar\": {\"outlinewidth\": 0, \"ticks\": \"\"}}, \"type\": \"scattercarpet\"}], \"scattergeo\": [{\"marker\": {\"colorbar\": {\"outlinewidth\": 0, \"ticks\": \"\"}}, \"type\": \"scattergeo\"}], \"scattergl\": [{\"marker\": {\"colorbar\": {\"outlinewidth\": 0, \"ticks\": \"\"}}, \"type\": \"scattergl\"}], \"scattermapbox\": [{\"marker\": {\"colorbar\": {\"outlinewidth\": 0, \"ticks\": \"\"}}, \"type\": \"scattermapbox\"}], \"scatterpolar\": [{\"marker\": {\"colorbar\": {\"outlinewidth\": 0, \"ticks\": \"\"}}, \"type\": \"scatterpolar\"}], \"scatterpolargl\": [{\"marker\": {\"colorbar\": {\"outlinewidth\": 0, \"ticks\": \"\"}}, \"type\": \"scatterpolargl\"}], \"scatterternary\": [{\"marker\": {\"colorbar\": {\"outlinewidth\": 0, \"ticks\": \"\"}}, \"type\": \"scatterternary\"}], \"surface\": [{\"colorbar\": {\"outlinewidth\": 0, \"ticks\": \"\"}, \"colorscale\": [[0.0, \"#0d0887\"], [0.1111111111111111, \"#46039f\"], [0.2222222222222222, \"#7201a8\"], [0.3333333333333333, \"#9c179e\"], [0.4444444444444444, \"#bd3786\"], [0.5555555555555556, \"#d8576b\"], [0.6666666666666666, \"#ed7953\"], [0.7777777777777778, \"#fb9f3a\"], [0.8888888888888888, \"#fdca26\"], [1.0, \"#f0f921\"]], \"type\": \"surface\"}], \"table\": [{\"cells\": {\"fill\": {\"color\": \"#EBF0F8\"}, \"line\": {\"color\": \"white\"}}, \"header\": {\"fill\": {\"color\": \"#C8D4E3\"}, \"line\": {\"color\": \"white\"}}, \"type\": \"table\"}]}, \"layout\": {\"annotationdefaults\": {\"arrowcolor\": \"#2a3f5f\", \"arrowhead\": 0, \"arrowwidth\": 1}, \"coloraxis\": {\"colorbar\": {\"outlinewidth\": 0, \"ticks\": \"\"}}, \"colorscale\": {\"diverging\": [[0, \"#8e0152\"], [0.1, \"#c51b7d\"], [0.2, \"#de77ae\"], [0.3, \"#f1b6da\"], [0.4, \"#fde0ef\"], [0.5, \"#f7f7f7\"], [0.6, \"#e6f5d0\"], [0.7, \"#b8e186\"], [0.8, \"#7fbc41\"], [0.9, \"#4d9221\"], [1, \"#276419\"]], \"sequential\": [[0.0, \"#0d0887\"], [0.1111111111111111, \"#46039f\"], [0.2222222222222222, \"#7201a8\"], [0.3333333333333333, \"#9c179e\"], [0.4444444444444444, \"#bd3786\"], [0.5555555555555556, \"#d8576b\"], [0.6666666666666666, \"#ed7953\"], [0.7777777777777778, \"#fb9f3a\"], [0.8888888888888888, \"#fdca26\"], [1.0, \"#f0f921\"]], \"sequentialminus\": [[0.0, \"#0d0887\"], [0.1111111111111111, \"#46039f\"], [0.2222222222222222, \"#7201a8\"], [0.3333333333333333, \"#9c179e\"], [0.4444444444444444, \"#bd3786\"], [0.5555555555555556, \"#d8576b\"], [0.6666666666666666, \"#ed7953\"], [0.7777777777777778, \"#fb9f3a\"], [0.8888888888888888, \"#fdca26\"], [1.0, \"#f0f921\"]]}, \"colorway\": [\"#636efa\", \"#EF553B\", \"#00cc96\", \"#ab63fa\", \"#FFA15A\", \"#19d3f3\", \"#FF6692\", \"#B6E880\", \"#FF97FF\", \"#FECB52\"], \"font\": {\"color\": \"#2a3f5f\"}, \"geo\": {\"bgcolor\": \"white\", \"lakecolor\": \"white\", \"landcolor\": \"#E5ECF6\", \"showlakes\": true, \"showland\": true, \"subunitcolor\": \"white\"}, \"hoverlabel\": {\"align\": \"left\"}, \"hovermode\": \"closest\", \"mapbox\": {\"style\": \"light\"}, \"paper_bgcolor\": \"white\", \"plot_bgcolor\": \"#E5ECF6\", \"polar\": {\"angularaxis\": {\"gridcolor\": \"white\", \"linecolor\": \"white\", \"ticks\": \"\"}, \"bgcolor\": \"#E5ECF6\", \"radialaxis\": {\"gridcolor\": \"white\", \"linecolor\": \"white\", \"ticks\": \"\"}}, \"scene\": {\"xaxis\": {\"backgroundcolor\": \"#E5ECF6\", \"gridcolor\": \"white\", \"gridwidth\": 2, \"linecolor\": \"white\", \"showbackground\": true, \"ticks\": \"\", \"zerolinecolor\": \"white\"}, \"yaxis\": {\"backgroundcolor\": \"#E5ECF6\", \"gridcolor\": \"white\", \"gridwidth\": 2, \"linecolor\": \"white\", \"showbackground\": true, \"ticks\": \"\", \"zerolinecolor\": \"white\"}, \"zaxis\": {\"backgroundcolor\": \"#E5ECF6\", \"gridcolor\": \"white\", \"gridwidth\": 2, \"linecolor\": \"white\", \"showbackground\": true, \"ticks\": \"\", \"zerolinecolor\": \"white\"}}, \"shapedefaults\": {\"line\": {\"color\": \"#2a3f5f\"}}, \"ternary\": {\"aaxis\": {\"gridcolor\": \"white\", \"linecolor\": \"white\", \"ticks\": \"\"}, \"baxis\": {\"gridcolor\": \"white\", \"linecolor\": \"white\", \"ticks\": \"\"}, \"bgcolor\": \"#E5ECF6\", \"caxis\": {\"gridcolor\": \"white\", \"linecolor\": \"white\", \"ticks\": \"\"}}, \"title\": {\"x\": 0.05}, \"xaxis\": {\"automargin\": true, \"gridcolor\": \"white\", \"linecolor\": \"white\", \"ticks\": \"\", \"title\": {\"standoff\": 15}, \"zerolinecolor\": \"white\", \"zerolinewidth\": 2}, \"yaxis\": {\"automargin\": true, \"gridcolor\": \"white\", \"linecolor\": \"white\", \"ticks\": \"\", \"title\": {\"standoff\": 15}, \"zerolinecolor\": \"white\", \"zerolinewidth\": 2}}}, \"width\": 700, \"xaxis\": {\"side\": \"top\"}},\n",
              "                        {\"responsive\": true}\n",
              "                    ).then(function(){\n",
              "                            \n",
              "var gd = document.getElementById('05611a10-ec84-4ca3-9195-aa6dbd80fa17');\n",
              "var x = new MutationObserver(function (mutations, observer) {{\n",
              "        var display = window.getComputedStyle(gd).display;\n",
              "        if (!display || display === 'none') {{\n",
              "            console.log([gd, 'removed!']);\n",
              "            Plotly.purge(gd);\n",
              "            observer.disconnect();\n",
              "        }}\n",
              "}});\n",
              "\n",
              "// Listen for the removal of the full notebook cells\n",
              "var notebookContainer = gd.closest('#notebook-container');\n",
              "if (notebookContainer) {{\n",
              "    x.observe(notebookContainer, {childList: true});\n",
              "}}\n",
              "\n",
              "// Listen for the clearing of the current output cell\n",
              "var outputEl = gd.closest('.output');\n",
              "if (outputEl) {{\n",
              "    x.observe(outputEl, {childList: true});\n",
              "}}\n",
              "\n",
              "                        })\n",
              "                };\n",
              "                \n",
              "            </script>\n",
              "        </div>\n",
              "</body>\n",
              "</html>"
            ]
          },
          "metadata": {
            "tags": []
          }
        }
      ]
    },
    {
      "cell_type": "code",
      "metadata": {
        "colab_type": "code",
        "id": "BcIj400TN3IU",
        "outputId": "4bfbc3c4-c5ba-423e-fee6-24f946655db4",
        "colab": {
          "base_uri": "https://localhost:8080/",
          "height": 340
        }
      },
      "source": [
        "## Calculate BLEU Scores\n",
        "\n",
        "from nltk.translate.bleu_score import sentence_bleu\n",
        "from nltk.translate.bleu_score import SmoothingFunction\n",
        "\n",
        "test_dataset = tf.data.Dataset.from_tensor_slices((english_test, chinese_test)).shuffle(BUFFER_SIZE)\n",
        "\n",
        "def convert(lang, tensor):\n",
        "    words = []\n",
        "    for t in tensor.numpy():\n",
        "        if t!=0 and lang.index_word[t] not in ['<start>', '<end>']:\n",
        "            words.append(lang.index_word[t])\n",
        "    return words\n",
        "\n",
        "scores = []\n",
        "for eng, ref_trans in test_dataset:\n",
        "    reference = [convert(chinese_tokenizer, ref_trans)]\n",
        "    try:\n",
        "        eng = ' '.join(convert(english_tokenizer, eng))\n",
        "        eng = eng.replace('.', '')\n",
        "        candidate = translate(eng, score=True)\n",
        "        candidate = [i for i in candidate.split(' ')]\n",
        "    except:\n",
        "        pass\n",
        "\n",
        "    score = sentence_bleu(reference, candidate)\n",
        "    scores.append(score)\n",
        "\n",
        "print(np.mean(scores))"
      ],
      "execution_count": 0,
      "outputs": [
        {
          "output_type": "stream",
          "text": [
            "/usr/local/lib/python3.6/dist-packages/nltk/translate/bleu_score.py:490: UserWarning:\n",
            "\n",
            "\n",
            "Corpus/Sentence contains 0 counts of 2-gram overlaps.\n",
            "BLEU scores might be undesirable; use SmoothingFunction().\n",
            "\n",
            "/usr/local/lib/python3.6/dist-packages/nltk/translate/bleu_score.py:490: UserWarning:\n",
            "\n",
            "\n",
            "Corpus/Sentence contains 0 counts of 3-gram overlaps.\n",
            "BLEU scores might be undesirable; use SmoothingFunction().\n",
            "\n",
            "/usr/local/lib/python3.6/dist-packages/nltk/translate/bleu_score.py:490: UserWarning:\n",
            "\n",
            "\n",
            "Corpus/Sentence contains 0 counts of 4-gram overlaps.\n",
            "BLEU scores might be undesirable; use SmoothingFunction().\n",
            "\n"
          ],
          "name": "stderr"
        },
        {
          "output_type": "stream",
          "text": [
            "0.5230281683250283\n"
          ],
          "name": "stdout"
        }
      ]
    },
    {
      "cell_type": "markdown",
      "metadata": {
        "id": "DXF5i50FnU16",
        "colab_type": "text"
      },
      "source": [
        "Reference\n",
        "\n",
        "https://www.tensorflow.org/tutorials/text/nmt_with_attention"
      ]
    }
  ]
}